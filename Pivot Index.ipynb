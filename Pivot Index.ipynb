{
  "nbformat": 4,
  "nbformat_minor": 0,
  "metadata": {
    "colab": {
      "provenance": [],
      "authorship_tag": "ABX9TyN5IHoOOvBgfDLhqb34b4hk",
      "include_colab_link": true
    },
    "kernelspec": {
      "name": "python3",
      "display_name": "Python 3"
    },
    "language_info": {
      "name": "python"
    }
  },
  "cells": [
    {
      "cell_type": "markdown",
      "metadata": {
        "id": "view-in-github",
        "colab_type": "text"
      },
      "source": [
        "<a href=\"https://colab.research.google.com/github/alledhathri/Dds/blob/main/Pivot%20Index.ipynb\" target=\"_parent\"><img src=\"https://colab.research.google.com/assets/colab-badge.svg\" alt=\"Open In Colab\"/></a>"
      ]
    },
    {
      "cell_type": "code",
      "execution_count": null,
      "metadata": {
        "colab": {
          "base_uri": "https://localhost:8080/"
        },
        "id": "ykzW0aWORDoI",
        "outputId": "789b7c38-7bb0-4f9a-a5f5-81729a82396f"
      },
      "outputs": [
        {
          "output_type": "stream",
          "name": "stdout",
          "text": [
            "2\n"
          ]
        }
      ],
      "source": [
        "l=[3,2,2,3]\n",
        "t=3\n",
        "k=0\n",
        "for i in range(len(l)):\n",
        "  if l[i]!=t:\n",
        "   l[k]=l[i]\n",
        "   k+=1\n",
        "print(k)\n",
        "\n",
        "\n"
      ]
    },
    {
      "cell_type": "code",
      "source": [
        "nums=[1,7,3,6,5,6]\n",
        "total = sum(nums)\n",
        "l_t= 0\n",
        "for i in range(len(nums)):\n",
        "  r_t = total - l_t - nums[i]\n",
        "  if l_t == r_t:\n",
        "    print(i)\n",
        "  l_t += nums[i]\n",
        "print(-1)\n"
      ],
      "metadata": {
        "colab": {
          "base_uri": "https://localhost:8080/"
        },
        "id": "wzS66tZidz1V",
        "outputId": "135166e1-c26c-4487-9f39-cfa93c31015f"
      },
      "execution_count": null,
      "outputs": [
        {
          "output_type": "stream",
          "name": "stdout",
          "text": [
            "3\n",
            "-1\n"
          ]
        }
      ]
    }
  ]
}