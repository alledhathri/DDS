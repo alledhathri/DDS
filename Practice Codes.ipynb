{
  "nbformat": 4,
  "nbformat_minor": 0,
  "metadata": {
    "colab": {
      "provenance": [],
      "authorship_tag": "ABX9TyMuE5L6fjZnh82hNapjGl65",
      "include_colab_link": true
    },
    "kernelspec": {
      "name": "python3",
      "display_name": "Python 3"
    },
    "language_info": {
      "name": "python"
    }
  },
  "cells": [
    {
      "cell_type": "markdown",
      "metadata": {
        "id": "view-in-github",
        "colab_type": "text"
      },
      "source": [
        "<a href=\"https://colab.research.google.com/github/alledhathri/Dds/blob/main/untitled0.ipynb\" target=\"_parent\"><img src=\"https://colab.research.google.com/assets/colab-badge.svg\" alt=\"Open In Colab\"/></a>"
      ]
    },
    {
      "cell_type": "code",
      "execution_count": null,
      "metadata": {
        "colab": {
          "base_uri": "https://localhost:8080/"
        },
        "id": "ykzW0aWORDoI",
        "outputId": "7276e007-b105-4514-c4b4-60d8b0dca506"
      },
      "outputs": [
        {
          "output_type": "stream",
          "name": "stdout",
          "text": [
            "2\n"
          ]
        }
      ],
      "source": [
        "l=[3,2,2,3]\n",
        "t=3\n",
        "k=0\n",
        "for i in range(len(l)):\n",
        "  if l[i]!=t:\n",
        "   l[k]=l[i]\n",
        "   k+=1\n",
        "print(k)\n",
        "\n",
        "\n"
      ]
    }
  ]
}
